{
 "cells": [
  {
   "cell_type": "code",
   "execution_count": 28,
   "metadata": {},
   "outputs": [
    {
     "name": "stdout",
     "output_type": "stream",
     "text": [
      "An error occurred: Message: no such element: Unable to locate element: {\"method\":\"xpath\",\"selector\":\"//div[text()=\"ACCEPT\"]\"}\n",
      "  (Session info: chrome=138.0.7204.49); For documentation on this error, please visit: https://www.selenium.dev/documentation/webdriver/troubleshooting/errors#no-such-element-exception\n",
      "Stacktrace:\n",
      "\tGetHandleVerifier [0x0x714553+62419]\n",
      "\tGetHandleVerifier [0x0x714594+62484]\n",
      "\t(No symbol) [0x0x552133]\n",
      "\t(No symbol) [0x0x59a8fe]\n",
      "\t(No symbol) [0x0x59ac9b]\n",
      "\t(No symbol) [0x0x5e3052]\n",
      "\t(No symbol) [0x0x5bf4b4]\n",
      "\t(No symbol) [0x0x5e087a]\n",
      "\t(No symbol) [0x0x5bf266]\n",
      "\t(No symbol) [0x0x58e852]\n",
      "\t(No symbol) [0x0x58f6f4]\n",
      "\tGetHandleVerifier [0x0x984833+2619059]\n",
      "\tGetHandleVerifier [0x0x97fc4a+2599626]\n",
      "\tGetHandleVerifier [0x0x73b0fa+221050]\n",
      "\tGetHandleVerifier [0x0x72b378+156152]\n",
      "\tGetHandleVerifier [0x0x731d2d+183213]\n",
      "\tGetHandleVerifier [0x0x71c438+94904]\n",
      "\tGetHandleVerifier [0x0x71c5c2+95298]\n",
      "\tGetHandleVerifier [0x0x70771a+9626]\n",
      "\tBaseThreadInitThunk [0x0x76517ba9+25]\n",
      "\tRtlInitializeExceptionChain [0x0x7717c3ab+107]\n",
      "\tRtlClearBits [0x0x7717c32f+191]\n",
      "\n"
     ]
    }
   ],
   "source": [
    "from selenium import webdriver\n",
    "from selenium.webdriver.chrome.service import Service as ChromeService\n",
    "from webdriver_manager.chrome import ChromeDriverManager\n",
    "from selenium.webdriver.common.by import By\n",
    "import pandas as pd \n",
    "import time\n",
    "\n",
    "# Initialize the WebDriver (if not already initialized)\n",
    "if 'driver' not in globals():\n",
    "    driver = webdriver.Chrome(service=ChromeService(ChromeDriverManager().install()))\n",
    "\n",
    "# Function to check if the WebDriver session is valid\n",
    "def is_session_valid(driver):\n",
    "    try:\n",
    "        # Try to get the current URL to check if the session is valid\n",
    "        driver.current_url\n",
    "        return True\n",
    "    except Exception:\n",
    "        # If an exception occurs, the session is invalid\n",
    "        return False\n",
    "\n",
    "# Reinitialize the WebDriver session if it is invalid\n",
    "if not is_session_valid(driver):\n",
    "    driver.quit()  # Close the invalid session\n",
    "    driver = webdriver.Chrome(service=ChromeService(ChromeDriverManager().install()))\n",
    "\n",
    "# Navigate to the page\n",
    "page_url = \"https://harrypotter.fandom.com/wiki/Category:Character_indexes\"  # Replace with your target URL\n",
    "driver.get(page_url)\n",
    "driver.implicitly_wait(10)\n",
    "# Perform the action (e.g., clicking the \"ACCEPT\" button)\n",
    "try:\n",
    "    accept_button = driver.find_element(By.XPATH, '//div[text()=\"ACCEPT\"]')\n",
    "    accept_button.click()\n",
    "    driver.implicitly_wait(10)\n",
    "    print(driver.title)\n",
    "    driver.close()\n",
    "except Exception as e:\n",
    "    print(f\"An error occurred: {e}\")\n"
   ]
  },
  {
   "cell_type": "code",
   "execution_count": 29,
   "metadata": {},
   "outputs": [],
   "source": [
    "book_categories = driver.find_elements(By.CLASS_NAME, 'category-page__member-link') "
   ]
  },
  {
   "cell_type": "code",
   "execution_count": 30,
   "metadata": {},
   "outputs": [
    {
     "name": "stdout",
     "output_type": "stream",
     "text": [
      "Harry Potter and the Chamber of Secrets (character index)\n",
      "https://harrypotter.fandom.com/wiki/Harry_Potter_and_the_Chamber_of_Secrets_(character_index)\n",
      "Harry Potter and the Deathly Hallows (character index)\n",
      "https://harrypotter.fandom.com/wiki/Harry_Potter_and_the_Deathly_Hallows_(character_index)\n",
      "Harry Potter and the Goblet of Fire (character index)\n",
      "https://harrypotter.fandom.com/wiki/Harry_Potter_and_the_Goblet_of_Fire_(character_index)\n",
      "Harry Potter and the Half-Blood Prince (character index)\n",
      "https://harrypotter.fandom.com/wiki/Harry_Potter_and_the_Half-Blood_Prince_(character_index)\n",
      "Harry Potter and the Order of the Phoenix (character index)\n",
      "https://harrypotter.fandom.com/wiki/Harry_Potter_and_the_Order_of_the_Phoenix_(character_index)\n",
      "Harry Potter and the Philosopher's Stone (character index)\n",
      "https://harrypotter.fandom.com/wiki/Harry_Potter_and_the_Philosopher%27s_Stone_(character_index)\n",
      "Harry Potter and the Prisoner of Azkaban (character index)\n",
      "https://harrypotter.fandom.com/wiki/Harry_Potter_and_the_Prisoner_of_Azkaban_(character_index)\n"
     ]
    }
   ],
   "source": [
    "for i in book_categories:\n",
    "    print(i.text)\n",
    "    print(i.get_attribute('href'))"
   ]
  },
  {
   "cell_type": "code",
   "execution_count": null,
   "metadata": {},
   "outputs": [],
   "source": [
    "\n",
    "books = []\n",
    "for category in book_categories: \n",
    "    book_name = category.text\n",
    "    book_url = category.get_attribute('href')\n",
    "    books.append({\"book_name\": book_name, \"book_url\": book_url})"
   ]
  },
  {
   "cell_type": "code",
   "execution_count": 32,
   "metadata": {},
   "outputs": [
    {
     "data": {
      "text/plain": [
       "[{'book_name': 'Harry Potter and the Chamber of Secrets (character index)',\n",
       "  'book_url': 'https://harrypotter.fandom.com/wiki/Harry_Potter_and_the_Chamber_of_Secrets_(character_index)'},\n",
       " {'book_name': 'Harry Potter and the Deathly Hallows (character index)',\n",
       "  'book_url': 'https://harrypotter.fandom.com/wiki/Harry_Potter_and_the_Deathly_Hallows_(character_index)'},\n",
       " {'book_name': 'Harry Potter and the Goblet of Fire (character index)',\n",
       "  'book_url': 'https://harrypotter.fandom.com/wiki/Harry_Potter_and_the_Goblet_of_Fire_(character_index)'},\n",
       " {'book_name': 'Harry Potter and the Half-Blood Prince (character index)',\n",
       "  'book_url': 'https://harrypotter.fandom.com/wiki/Harry_Potter_and_the_Half-Blood_Prince_(character_index)'},\n",
       " {'book_name': 'Harry Potter and the Order of the Phoenix (character index)',\n",
       "  'book_url': 'https://harrypotter.fandom.com/wiki/Harry_Potter_and_the_Order_of_the_Phoenix_(character_index)'},\n",
       " {'book_name': \"Harry Potter and the Philosopher's Stone (character index)\",\n",
       "  'book_url': 'https://harrypotter.fandom.com/wiki/Harry_Potter_and_the_Philosopher%27s_Stone_(character_index)'},\n",
       " {'book_name': 'Harry Potter and the Prisoner of Azkaban (character index)',\n",
       "  'book_url': 'https://harrypotter.fandom.com/wiki/Harry_Potter_and_the_Prisoner_of_Azkaban_(character_index)'}]"
      ]
     },
     "execution_count": 32,
     "metadata": {},
     "output_type": "execute_result"
    }
   ],
   "source": [
    "books"
   ]
  },
  {
   "cell_type": "code",
   "execution_count": null,
   "metadata": {},
   "outputs": [],
   "source": [
    "# character_list = []\n",
    "# for book in books:\n",
    "#     driver.get(book['book_url'])\n",
    "#     char_elements = driver.find_elements(By.CLASS_NAME, 'mw-parser-output')\n",
    "#     for element in char_elements:    \n",
    "#         character_dict = dict()\n",
    "#         tables = element.find_elements(By.TAG_NAME, 'table')\n",
    "#         lists = element.find_elements(By.TAG_NAME, 'ul')\n",
    "#         for chapter in tables:\n",
    "#             characters = chapter.find_elements(By.TAG_NAME, 'a')\n",
    "#             for character in characters:\n",
    "#                 title = character.get_attribute('title')\n",
    "#                 href = character.get_attribute('href')\n",
    "#                 if '/wiki/' in href and not href.startswith('https://static.'):  # Filter out images\n",
    "#                     character_list.append({'book':book['book_name'], 'title': title})\n",
    "#         if title is None:    \n",
    "#             for chap in lists:\n",
    "#                 chars = chap.find_elements(By.TAG_NAME, 'li')\n",
    "#                 for char in chars:\n",
    "#                     titl = char.get_attribute('title')\n",
    "#                     character_list.append({'book':book['book_name'], 'title': titl})"
   ]
  },
  {
   "cell_type": "code",
   "execution_count": 51,
   "metadata": {},
   "outputs": [],
   "source": [
    "character_lis = []\n",
    "\n",
    "for book in books:\n",
    "    try:\n",
    "        driver.get(book['book_url'])\n",
    "        time.sleep(2)  # optional delay for polite scraping\n",
    "    except Exception as e:\n",
    "        print(f\"Error loading {book['book_url']}: {e}\")\n",
    "        continue\n",
    "\n",
    "    # Extract from tables\n",
    "    tables = driver.find_elements(By.CSS_SELECTOR, 'table.article-table')\n",
    "    for table in tables:\n",
    "        links = table.find_elements(By.TAG_NAME, 'a')\n",
    "        for link in links:\n",
    "            title = link.get_attribute('title')\n",
    "            if title:\n",
    "                character_lis.append({'book': book['book_name'], 'title': title})\n",
    "\n",
    "    # Extract from unordered lists\n",
    "    lists = driver.find_elements(By.TAG_NAME, 'ul')\n",
    "    for ul in lists:\n",
    "        list_items = ul.find_elements(By.TAG_NAME, 'li')\n",
    "        for li in list_items:\n",
    "            # First: look for <a> inside <li>\n",
    "            a_tags = li.find_elements(By.TAG_NAME, 'a')\n",
    "            if a_tags:\n",
    "                for a in a_tags:\n",
    "                    title = a.get_attribute('title') or a.text\n",
    "                    if title:\n",
    "                        character_lis.append({'book': book['book_name'], 'title': title})\n",
    "            else:\n",
    "                # No <a> inside <li> → just plain text\n",
    "                plain_text = li.text.strip()\n",
    "                if plain_text:\n",
    "                    character_lis.append({'book': book['book_name'], 'title': plain_text})\n"
   ]
  },
  {
   "cell_type": "code",
   "execution_count": 53,
   "metadata": {},
   "outputs": [],
   "source": [
    "df = pd.DataFrame(character_lis)"
   ]
  },
  {
   "cell_type": "code",
   "execution_count": 70,
   "metadata": {},
   "outputs": [],
   "source": [
    "import re\n",
    "#remove ( and ) from book names\n",
    "df['book'] = df['book'].str.replace(r'\\(.*?\\)', '', regex=True).str.strip()\n",
    "# Drop rows where title is null or empty\n",
    "df = df[df['title'].notnull() & (df['title'].str.strip() != '')]\n",
    "\n",
    "# Drop rows containing unwanted words (case-insensitive)\n",
    "unwanted_keywords = ['sitemap', 'help', 'chapter', 'character index', 'category', 'categories', 'see also', 'fandom', 'fantasy', 'fanatical', 'about', 'careers', 'press', 'contact', 'terms of use', 'privacy policy', 'cookies', 'community', 'digital services', 'support', 'media kit', '220']\n",
    "pattern = '|'.join(unwanted_keywords)\n",
    "df = df[~df['title'].str.lower().str.contains(pattern)]\n",
    "#Drop rows that contain numbers\n",
    "df = df[~df['title'].str.contains(r'\\d', na=False)]\n",
    "# Drop rows where title is fully uppercase\n",
    "df = df[~df['title'].str.match(r'^[A-Z\\s]+$')]\n",
    "# Remove rows where the book name is part of the title (case-insensitive)\n",
    "df = df[~df.apply(lambda row: row['book'].lower() in row['title'].lower(), axis=1)]\n"
   ]
  },
  {
   "cell_type": "code",
   "execution_count": 71,
   "metadata": {},
   "outputs": [],
   "source": [
    "df.to_csv('harry_potter_characters.csv', index=False)"
   ]
  },
  {
   "cell_type": "code",
   "execution_count": 68,
   "metadata": {},
   "outputs": [
    {
     "data": {
      "text/plain": [
       "<Axes: title={'center': 'Number of Characters per Book'}, xlabel='book'>"
      ]
     },
     "execution_count": 68,
     "metadata": {},
     "output_type": "execute_result"
    },
    {
     "data": {
      "image/png": "[encoded data removed]",
      "text/plain": [
       "<Figure size 1000x500 with 1 Axes>"
      ]
     },
     "metadata": {},
     "output_type": "display_data"
    }
   ],
   "source": [
    "df['book'].value_counts().plot(kind='bar', figsize=(10, 5), title='Number of Characters per Book')"
   ]
  },
  {
   "cell_type": "code",
   "execution_count": null,
   "metadata": {},
   "outputs": [],
   "source": []
  }
 ],
 "metadata": {
  "kernelspec": {
   "display_name": ".venv",
   "language": "python",
   "name": "python3"
  },
  "language_info": {
   "codemirror_mode": {
    "name": "ipython",
    "version": 3
   },
   "file_extension": ".py",
   "mimetype": "text/x-python",
   "name": "python",
   "nbconvert_exporter": "python",
   "pygments_lexer": "ipython3",
   "version": "3.10.6"
  }
 },
 "nbformat": 4,
 "nbformat_minor": 2
}
